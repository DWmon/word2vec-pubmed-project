{
 "cells": [
  {
   "cell_type": "markdown",
   "metadata": {},
   "source": [
    "# Pubmed - EGFR\n",
    "조건 : text availablity : free full text"
   ]
  },
  {
   "cell_type": "markdown",
   "metadata": {},
   "source": [
    "# EGFR 데이터 1~10 개별 데이터에서 EGFR 관련 단어들"
   ]
  },
  {
   "cell_type": "code",
   "execution_count": null,
   "metadata": {},
   "outputs": [],
   "source": [
    "import re\n",
    "import pandas as pd\n",
    "import numpy as np\n",
    "from  gensim.models import Word2Vec\n",
    "\n",
    "for i in range(1,10+1):\n",
    "    file = open(\"./Pubmed - EGFR 10th data/\" + str(i) + \".EGFR.txt\",\"r\",errors=\"ignore\")\n",
    "    cancer_data = file.read()\n",
    "    cancer_data = re.split(\"[\\n\\.?]\", cancer_data)\n",
    "\n",
    "    while '' in cancer_data:\n",
    "        cancer_data.remove('')\n",
    "    \n",
    "    Cancer = pd.DataFrame()\n",
    "    Cancer['sentences'] = np.asarray(cancer_data)\n",
    "    Cancer['sentences_seperated'] = Cancer['sentences'].apply(lambda x: x.replace(\",\", \"\"))\n",
    "    Cancer['sentences_seperated'] = Cancer['sentences_seperated'].apply(lambda x: x.replace(\";\", \"\"))\n",
    "    Cancer['sentences_seperated'] = Cancer['sentences_seperated'].apply(lambda x: x.replace(\"\\\"\", \"\"))\n",
    "    Cancer['sentences_seperated'] = Cancer['sentences_seperated'].apply(lambda x: x.split())\n",
    "\n",
    "    model = Word2Vec(Cancer['sentences_seperated'], hs=1, size=300, min_count=10)\n",
    "\n",
    "    print(\"----------------------------------------------------------\")\n",
    "    print(\"EGFR\" + str(i) +\"데이터에서 EGFR와 관련된 문자들\")\n",
    "    print(\"----------------------------------------------------------\")\n",
    "    for word, score in model.wv.most_similar(\"EGFR\"):   # cancer0에서 cancer에 대한 연관성\n",
    "        print(word)\n",
    "    file.close()\n"
   ]
  },
  {
   "cell_type": "markdown",
   "metadata": {},
   "source": [
    "# EGFR 데이터 합본에서 EGFR 관련 단어들"
   ]
  },
  {
   "cell_type": "code",
   "execution_count": null,
   "metadata": {},
   "outputs": [],
   "source": [
    "import re\n",
    "import pandas as pd\n",
    "import numpy as np\n",
    "from  gensim.models import Word2Vec\n",
    "\n",
    "for i in range(11,11+1):\n",
    "    file = open(\"./Pubmed - EGFR 10th data/\" + str(i) + \".EGFR.txt\",\"r\",errors=\"ignore\")\n",
    "    cancer_data = file.read()\n",
    "    cancer_data = re.split(\"[\\n\\.?]\", cancer_data)\n",
    "\n",
    "    while '' in cancer_data:\n",
    "        cancer_data.remove('')\n",
    "    \n",
    "    Cancer = pd.DataFrame()\n",
    "    Cancer['sentences'] = np.asarray(cancer_data)\n",
    "    Cancer['sentences_seperated'] = Cancer['sentences'].apply(lambda x: x.replace(\",\", \"\"))\n",
    "    Cancer['sentences_seperated'] = Cancer['sentences_seperated'].apply(lambda x: x.replace(\";\", \"\"))\n",
    "    Cancer['sentences_seperated'] = Cancer['sentences_seperated'].apply(lambda x: x.replace(\"\\\"\", \"\"))\n",
    "    Cancer['sentences_seperated'] = Cancer['sentences_seperated'].apply(lambda x: x.split())\n",
    "\n",
    "    model = Word2Vec(Cancer['sentences_seperated'], hs=1, size=300, min_count=10)\n",
    "\n",
    "    print(\"----------------------------------------------------------\")\n",
    "    print(\"EGFR\" + str(i) +\"데이터에서 EGFR와 관련된 문자들\")\n",
    "    print(\"----------------------------------------------------------\")\n",
    "    for word, score in model.wv.most_similar(\"EGFR\"):   # cancer0에서 cancer에 대한 연관성\n",
    "        print(word)\n",
    "    file.close()\n"
   ]
  },
  {
   "cell_type": "code",
   "execution_count": null,
   "metadata": {},
   "outputs": [],
   "source": [
    "import re\n",
    "import pandas as pd\n",
    "import numpy as np\n",
    "from  gensim.models import Word2Vec\n",
    "\n",
    "for i in range(11,11+1):\n",
    "    file = open(\"./Pubmed - EGFR 10th data/\" + str(i) + \".EGFR.txt\",\"r\",errors=\"ignore\")\n",
    "    cancer_data = file.read()\n",
    "    cancer_data = re.split(\"[\\n\\.?]\", cancer_data)\n",
    "\n",
    "    while '' in cancer_data:\n",
    "        cancer_data.remove('')\n",
    "    \n",
    "    Cancer = pd.DataFrame()\n",
    "    Cancer['sentences'] = np.asarray(cancer_data)\n",
    "    Cancer['sentences_seperated'] = Cancer['sentences'].apply(lambda x: x.replace(\",\", \"\"))\n",
    "    Cancer['sentences_seperated'] = Cancer['sentences_seperated'].apply(lambda x: x.replace(\";\", \"\"))\n",
    "    Cancer['sentences_seperated'] = Cancer['sentences_seperated'].apply(lambda x: x.replace(\"\\\"\", \"\"))\n",
    "    Cancer['sentences_seperated'] = Cancer['sentences_seperated'].apply(lambda x: x.split())\n",
    "\n",
    "    model = Word2Vec(Cancer['sentences_seperated'], hs=1, size=300, min_count=8)\n",
    "\n",
    "    print(\"----------------------------------------------------------\")\n",
    "    print(\"EGFR\" + str(i) +\"데이터에서 EGFR와 관련된 문자들\")\n",
    "    print(\"----------------------------------------------------------\")\n",
    "    for word, score in model.wv.most_similar(\"EGFR\"):   # cancer0에서 cancer에 대한 연관성\n",
    "        print(word)\n",
    "    file.close()\n"
   ]
  },
  {
   "cell_type": "markdown",
   "metadata": {},
   "source": [
    "# EGFR 데이터 합본에서 LUNG 관련 단어들"
   ]
  },
  {
   "cell_type": "code",
   "execution_count": null,
   "metadata": {},
   "outputs": [],
   "source": [
    "import re\n",
    "import pandas as pd\n",
    "import numpy as np\n",
    "from  gensim.models import Word2Vec\n",
    "\n",
    "for i in range(11,11+1):\n",
    "    file = open(\"./Pubmed - EGFR 10th data/\" + str(i) + \".EGFR.txt\",\"r\",errors=\"ignore\")\n",
    "    cancer_data = file.read()\n",
    "    cancer_data = re.split(\"[\\n\\.?]\", cancer_data)\n",
    "\n",
    "    while '' in cancer_data:\n",
    "        cancer_data.remove('')\n",
    "    \n",
    "    Cancer = pd.DataFrame()\n",
    "    Cancer['sentences'] = np.asarray(cancer_data)\n",
    "    Cancer['sentences_seperated'] = Cancer['sentences'].apply(lambda x: x.replace(\",\", \"\"))\n",
    "    Cancer['sentences_seperated'] = Cancer['sentences_seperated'].apply(lambda x: x.replace(\";\", \"\"))\n",
    "    Cancer['sentences_seperated'] = Cancer['sentences_seperated'].apply(lambda x: x.replace(\"\\\"\", \"\"))\n",
    "    Cancer['sentences_seperated'] = Cancer['sentences_seperated'].apply(lambda x: x.split())\n",
    "\n",
    "    model = Word2Vec(Cancer['sentences_seperated'], hs=1, size=300, min_count=10)\n",
    "\n",
    "    print(\"----------------------------------------------------------\")\n",
    "    print(\"EGFR\" + str(i) +\"데이터에서 lung와 관련된 문자들\")\n",
    "    print(\"----------------------------------------------------------\")\n",
    "    for word, score in model.wv.most_similar(\"lung\"):   # cancer0에서 cancer에 대한 연관성\n",
    "        print(word)\n",
    "    file.close()\n"
   ]
  },
  {
   "cell_type": "markdown",
   "metadata": {},
   "source": [
    "# SCLC 데이터 1~10 개별 데이터에서 SCLC와 관련된 단어들"
   ]
  },
  {
   "cell_type": "code",
   "execution_count": null,
   "metadata": {},
   "outputs": [],
   "source": [
    "import re\n",
    "import pandas as pd\n",
    "import numpy as np\n",
    "from  gensim.models import Word2Vec\n",
    "\n",
    "for i in range(1,10+1):\n",
    "    file = open(\"./Pubmed - SCLC 10th data/\" + str(i) + \".SCLC.txt\",\"r\",errors=\"ignore\")\n",
    "    cancer_data = file.read()\n",
    "    cancer_data = re.split(\"[\\n\\.?]\", cancer_data)\n",
    "\n",
    "    while '' in cancer_data:\n",
    "        cancer_data.remove('')\n",
    "    \n",
    "    Cancer = pd.DataFrame()\n",
    "    Cancer['sentences'] = np.asarray(cancer_data)\n",
    "    Cancer['sentences_seperated'] = Cancer['sentences'].apply(lambda x: x.replace(\",\", \"\"))\n",
    "    Cancer['sentences_seperated'] = Cancer['sentences_seperated'].apply(lambda x: x.replace(\";\", \"\"))\n",
    "    Cancer['sentences_seperated'] = Cancer['sentences_seperated'].apply(lambda x: x.replace(\"\\\"\", \"\"))\n",
    "    Cancer['sentences_seperated'] = Cancer['sentences_seperated'].apply(lambda x: x.split())\n",
    "\n",
    "    model = Word2Vec(Cancer['sentences_seperated'], hs=1, size=300, min_count=10)\n",
    "\n",
    "    print(\"----------------------------------------------------------\")\n",
    "    print(\"SCLC\" + str(i) +\"데이터에서 SCLC와 관련된 문자들\")\n",
    "    print(\"----------------------------------------------------------\")\n",
    "    for word, score in model.wv.most_similar(\"SCLC\"):   # cancer0에서 cancer에 대한 연관성\n",
    "        print(word)\n",
    "    file.close()\n"
   ]
  },
  {
   "cell_type": "markdown",
   "metadata": {},
   "source": [
    "# SCLC 데이터 합본에서 SCLC 관련 단어들"
   ]
  },
  {
   "cell_type": "code",
   "execution_count": null,
   "metadata": {},
   "outputs": [],
   "source": [
    "import re\n",
    "import pandas as pd\n",
    "import numpy as np\n",
    "from  gensim.models import Word2Vec\n",
    "\n",
    "for i in range(11,11+1):\n",
    "    file = open(\"./Pubmed - SCLC 10th data/\" + str(i) + \".SCLC.txt\",\"r\",errors=\"ignore\")\n",
    "    cancer_data = file.read()\n",
    "    cancer_data = re.split(\"[\\n\\.?]\", cancer_data)\n",
    "\n",
    "    while '' in cancer_data:\n",
    "        cancer_data.remove('')\n",
    "    \n",
    "    Cancer = pd.DataFrame()\n",
    "    Cancer['sentences'] = np.asarray(cancer_data)\n",
    "    Cancer['sentences_seperated'] = Cancer['sentences'].apply(lambda x: x.replace(\",\", \"\"))\n",
    "    Cancer['sentences_seperated'] = Cancer['sentences_seperated'].apply(lambda x: x.replace(\";\", \"\"))\n",
    "    Cancer['sentences_seperated'] = Cancer['sentences_seperated'].apply(lambda x: x.replace(\"\\\"\", \"\"))\n",
    "    Cancer['sentences_seperated'] = Cancer['sentences_seperated'].apply(lambda x: x.split())\n",
    "\n",
    "    model = Word2Vec(Cancer['sentences_seperated'], hs=1, size=300, min_count=10)\n",
    "\n",
    "    print(\"----------------------------------------------------------\")\n",
    "    print(\"SCLC\" + str(i) +\"데이터에서 SCLC와 관련된 문자들\")\n",
    "    print(\"----------------------------------------------------------\")\n",
    "    for word, score in model.wv.most_similar(\"SCLC\"):   # cancer0에서 cancer에 대한 연관성\n",
    "        print(word)\n",
    "    file.close()\n"
   ]
  },
  {
   "cell_type": "markdown",
   "metadata": {},
   "source": [
    "# SCLC 데이터 합본에서 LUNG 관련 단어들"
   ]
  },
  {
   "cell_type": "code",
   "execution_count": null,
   "metadata": {},
   "outputs": [],
   "source": [
    "import re\n",
    "import pandas as pd\n",
    "import numpy as np\n",
    "from  gensim.models import Word2Vec\n",
    "\n",
    "for i in range(11,11+1):\n",
    "    file = open(\"./Pubmed - SCLC 10th data/\" + str(i) + \".SCLC.txt\",\"r\",errors=\"ignore\")\n",
    "    cancer_data = file.read()\n",
    "    cancer_data = re.split(\"[\\n\\.?]\", cancer_data)\n",
    "\n",
    "    while '' in cancer_data:\n",
    "        cancer_data.remove('')\n",
    "    \n",
    "    Cancer = pd.DataFrame()\n",
    "    Cancer['sentences'] = np.asarray(cancer_data)\n",
    "    Cancer['sentences_seperated'] = Cancer['sentences'].apply(lambda x: x.replace(\",\", \"\"))\n",
    "    Cancer['sentences_seperated'] = Cancer['sentences_seperated'].apply(lambda x: x.replace(\";\", \"\"))\n",
    "    Cancer['sentences_seperated'] = Cancer['sentences_seperated'].apply(lambda x: x.replace(\"\\\"\", \"\"))\n",
    "    Cancer['sentences_seperated'] = Cancer['sentences_seperated'].apply(lambda x: x.split())\n",
    "\n",
    "    model = Word2Vec(Cancer['sentences_seperated'], hs=1, size=300, min_count=10)\n",
    "\n",
    "    print(\"----------------------------------------------------------\")\n",
    "    print(\"SCLC\" + str(i) +\"데이터에서 lung와 관련된 문자들\")\n",
    "    print(\"----------------------------------------------------------\")\n",
    "    for word, score in model.wv.most_similar(\"lung\"):   # cancer0에서 cancer에 대한 연관성\n",
    "        print(word)\n",
    "    file.close()\n"
   ]
  },
  {
   "cell_type": "markdown",
   "metadata": {},
   "source": [
    "# BT20 데이터 1~10 개별 데이터에서 BT20와 관련된 단어들"
   ]
  },
  {
   "cell_type": "code",
   "execution_count": null,
   "metadata": {},
   "outputs": [],
   "source": [
    "import re\n",
    "import pandas as pd\n",
    "import numpy as np\n",
    "from  gensim.models import Word2Vec\n",
    "\n",
    "for i in range(1,10+1):\n",
    "    file = open(\"./Pubmed - BT20 10th data/\" + str(i) + \".BT20.txt\",\"r\",errors=\"ignore\")\n",
    "    cancer_data = file.read()\n",
    "    cancer_data = re.split(\"[\\n\\.?]\", cancer_data)\n",
    "\n",
    "    while '' in cancer_data:\n",
    "        cancer_data.remove('')\n",
    "    \n",
    "    Cancer = pd.DataFrame()\n",
    "    Cancer['sentences'] = np.asarray(cancer_data)\n",
    "    Cancer['sentences_seperated'] = Cancer['sentences'].apply(lambda x: x.replace(\",\", \"\"))\n",
    "    Cancer['sentences_seperated'] = Cancer['sentences_seperated'].apply(lambda x: x.replace(\";\", \"\"))\n",
    "    Cancer['sentences_seperated'] = Cancer['sentences_seperated'].apply(lambda x: x.replace(\"\\\"\", \"\"))\n",
    "    Cancer['sentences_seperated'] = Cancer['sentences_seperated'].apply(lambda x: x.split())\n",
    "\n",
    "    model = Word2Vec(Cancer['sentences_seperated'], hs=1, size=300, min_count=10)\n",
    "\n",
    "    print(\"----------------------------------------------------------\")\n",
    "    print(\"BT20\" + str(i) +\"데이터에서 BT20와 관련된 문자들\")\n",
    "    print(\"----------------------------------------------------------\")\n",
    "    for word, score in model.wv.most_similar(\"BT20\"):   # cancer0에서 cancer에 대한 연관성\n",
    "        print(word)\n",
    "    file.close()\n"
   ]
  },
  {
   "cell_type": "markdown",
   "metadata": {},
   "source": [
    "# BT20 데이터 합본에서 BT20 관련 단어들"
   ]
  },
  {
   "cell_type": "code",
   "execution_count": null,
   "metadata": {},
   "outputs": [],
   "source": [
    "import re\n",
    "import pandas as pd\n",
    "import numpy as np\n",
    "from  gensim.models import Word2Vec\n",
    "\n",
    "for i in range(11,11+1):\n",
    "    file = open(\"./Pubmed - BT20 10th data/\" + str(i) + \".BT20.txt\",\"r\",errors=\"ignore\")\n",
    "    cancer_data = file.read()\n",
    "    cancer_data = re.split(\"[\\n\\.?]\", cancer_data)\n",
    "\n",
    "    while '' in cancer_data:\n",
    "        cancer_data.remove('')\n",
    "    \n",
    "    Cancer = pd.DataFrame()\n",
    "    Cancer['sentences'] = np.asarray(cancer_data)\n",
    "    Cancer['sentences_seperated'] = Cancer['sentences'].apply(lambda x: x.replace(\",\", \"\"))\n",
    "    Cancer['sentences_seperated'] = Cancer['sentences_seperated'].apply(lambda x: x.replace(\";\", \"\"))\n",
    "    Cancer['sentences_seperated'] = Cancer['sentences_seperated'].apply(lambda x: x.replace(\"\\\"\", \"\"))\n",
    "    Cancer['sentences_seperated'] = Cancer['sentences_seperated'].apply(lambda x: x.split())\n",
    "\n",
    "    model = Word2Vec(Cancer['sentences_seperated'], hs=1, size=300, min_count=10)\n",
    "\n",
    "    print(\"----------------------------------------------------------\")\n",
    "    print(\"BT20\" + str(i) +\"데이터에서 BT20와 관련된 문자들\")\n",
    "    print(\"----------------------------------------------------------\")\n",
    "    for word, score in model.wv.most_similar(\"BT20\"):   # cancer0에서 cancer에 대한 연관성\n",
    "        print(word)\n",
    "    file.close()\n"
   ]
  },
  {
   "cell_type": "markdown",
   "metadata": {},
   "source": [
    "# BT20 데이터 합본에서 breast 관련 단어들"
   ]
  },
  {
   "cell_type": "code",
   "execution_count": null,
   "metadata": {},
   "outputs": [],
   "source": [
    "import re\n",
    "import pandas as pd\n",
    "import numpy as np\n",
    "from  gensim.models import Word2Vec\n",
    "\n",
    "for i in range(11,11+1):\n",
    "    file = open(\"./Pubmed - BT20 10th data/\" + str(i) + \".BT20.txt\",\"r\",errors=\"ignore\")\n",
    "    cancer_data = file.read()\n",
    "    cancer_data = re.split(\"[\\n\\.?]\", cancer_data)\n",
    "\n",
    "    while '' in cancer_data:\n",
    "        cancer_data.remove('')\n",
    "    \n",
    "    Cancer = pd.DataFrame()\n",
    "    Cancer['sentences'] = np.asarray(cancer_data)\n",
    "    Cancer['sentences_seperated'] = Cancer['sentences'].apply(lambda x: x.replace(\",\", \"\"))\n",
    "    Cancer['sentences_seperated'] = Cancer['sentences_seperated'].apply(lambda x: x.replace(\";\", \"\"))\n",
    "    Cancer['sentences_seperated'] = Cancer['sentences_seperated'].apply(lambda x: x.replace(\"\\\"\", \"\"))\n",
    "    Cancer['sentences_seperated'] = Cancer['sentences_seperated'].apply(lambda x: x.split())\n",
    "\n",
    "    model = Word2Vec(Cancer['sentences_seperated'], hs=1, size=300, min_count=10)\n",
    "\n",
    "    print(\"----------------------------------------------------------\")\n",
    "    print(\"BT20\" + str(i) +\"데이터에서 breast와 관련된 문자들\")\n",
    "    print(\"----------------------------------------------------------\")\n",
    "    for word, score in model.wv.most_similar(\"breast\"):   # cancer0에서 cancer에 대한 연관성\n",
    "        print(word)\n",
    "    file.close()\n"
   ]
  },
  {
   "cell_type": "markdown",
   "metadata": {},
   "source": [
    "# CRC 데이터 1~10 개별 데이터에서 CRC와 관련된 단어들"
   ]
  },
  {
   "cell_type": "code",
   "execution_count": null,
   "metadata": {},
   "outputs": [],
   "source": [
    "import re\n",
    "import pandas as pd\n",
    "import numpy as np\n",
    "from  gensim.models import Word2Vec\n",
    "\n",
    "for i in range(1,10+1):\n",
    "    file = open(\"./Pubmed - CRC 10th data/\" + str(i) + \".CRC.txt\",\"r\",errors=\"ignore\")\n",
    "    cancer_data = file.read()\n",
    "    cancer_data = re.split(\"[\\n\\.?]\", cancer_data)\n",
    "\n",
    "    while '' in cancer_data:\n",
    "        cancer_data.remove('')\n",
    "    \n",
    "    Cancer = pd.DataFrame()\n",
    "    Cancer['sentences'] = np.asarray(cancer_data)\n",
    "    Cancer['sentences_seperated'] = Cancer['sentences'].apply(lambda x: x.replace(\",\", \"\"))\n",
    "    Cancer['sentences_seperated'] = Cancer['sentences_seperated'].apply(lambda x: x.replace(\";\", \"\"))\n",
    "    Cancer['sentences_seperated'] = Cancer['sentences_seperated'].apply(lambda x: x.replace(\"\\\"\", \"\"))\n",
    "    Cancer['sentences_seperated'] = Cancer['sentences_seperated'].apply(lambda x: x.split())\n",
    "\n",
    "    model = Word2Vec(Cancer['sentences_seperated'], hs=1, size=300, min_count=10)\n",
    "\n",
    "    print(\"----------------------------------------------------------\")\n",
    "    print(\"CRC\" + str(i) +\"데이터에서 CRC와 관련된 문자들\")\n",
    "    print(\"----------------------------------------------------------\")\n",
    "    for word, score in model.wv.most_similar(\"CRC\"):   # cancer0에서 cancer에 대한 연관성\n",
    "        print(word)\n",
    "    file.close()\n"
   ]
  },
  {
   "cell_type": "markdown",
   "metadata": {},
   "source": [
    "# CRC 데이터 합본에서 CRC 관련 단어들"
   ]
  },
  {
   "cell_type": "code",
   "execution_count": null,
   "metadata": {},
   "outputs": [],
   "source": [
    "import re\n",
    "import pandas as pd\n",
    "import numpy as np\n",
    "from  gensim.models import Word2Vec\n",
    "\n",
    "for i in range(11,11+1):\n",
    "    file = open(\"./Pubmed - CRC 10th data/\" + str(i) + \".CRC.txt\",\"r\",errors=\"ignore\")\n",
    "    cancer_data = file.read()\n",
    "    cancer_data = re.split(\"[\\n\\.?]\", cancer_data)\n",
    "\n",
    "    while '' in cancer_data:\n",
    "        cancer_data.remove('')\n",
    "    \n",
    "    Cancer = pd.DataFrame()\n",
    "    Cancer['sentences'] = np.asarray(cancer_data)\n",
    "    Cancer['sentences_seperated'] = Cancer['sentences'].apply(lambda x: x.replace(\",\", \"\"))\n",
    "    Cancer['sentences_seperated'] = Cancer['sentences_seperated'].apply(lambda x: x.replace(\";\", \"\"))\n",
    "    Cancer['sentences_seperated'] = Cancer['sentences_seperated'].apply(lambda x: x.replace(\"\\\"\", \"\"))\n",
    "    Cancer['sentences_seperated'] = Cancer['sentences_seperated'].apply(lambda x: x.split())\n",
    "\n",
    "    model = Word2Vec(Cancer['sentences_seperated'], hs=1, size=300, min_count=10)\n",
    "\n",
    "    print(\"----------------------------------------------------------\")\n",
    "    print(\"CRC\" + str(i) +\"데이터에서 CRC와 관련된 문자들\")\n",
    "    print(\"----------------------------------------------------------\")\n",
    "    for word, score in model.wv.most_similar(\"CRC\"):   # cancer0에서 cancer에 대한 연관성\n",
    "        print(word)\n",
    "    file.close()\n"
   ]
  },
  {
   "cell_type": "markdown",
   "metadata": {},
   "source": [
    "# CRC 데이터 합본에서 colorectal 관련 단어들"
   ]
  },
  {
   "cell_type": "code",
   "execution_count": null,
   "metadata": {},
   "outputs": [],
   "source": [
    "import re\n",
    "import pandas as pd\n",
    "import numpy as np\n",
    "from  gensim.models import Word2Vec\n",
    "\n",
    "for i in range(11,11+1):\n",
    "    file = open(\"./Pubmed - CRC 10th data/\" + str(i) + \".CRC.txt\",\"r\",errors=\"ignore\")\n",
    "    cancer_data = file.read()\n",
    "    cancer_data = re.split(\"[\\n\\.?]\", cancer_data)\n",
    "\n",
    "    while '' in cancer_data:\n",
    "        cancer_data.remove('')\n",
    "    \n",
    "    Cancer = pd.DataFrame()\n",
    "    Cancer['sentences'] = np.asarray(cancer_data)\n",
    "    Cancer['sentences_seperated'] = Cancer['sentences'].apply(lambda x: x.replace(\",\", \"\"))\n",
    "    Cancer['sentences_seperated'] = Cancer['sentences_seperated'].apply(lambda x: x.replace(\";\", \"\"))\n",
    "    Cancer['sentences_seperated'] = Cancer['sentences_seperated'].apply(lambda x: x.replace(\"\\\"\", \"\"))\n",
    "    Cancer['sentences_seperated'] = Cancer['sentences_seperated'].apply(lambda x: x.split())\n",
    "\n",
    "    model = Word2Vec(Cancer['sentences_seperated'], hs=1, size=300, min_count=10)\n",
    "\n",
    "    print(\"----------------------------------------------------------\")\n",
    "    print(\"CRC\" + str(i) +\"데이터에서 colorectal와 관련된 문자들\")\n",
    "    print(\"----------------------------------------------------------\")\n",
    "    for word, score in model.wv.most_similar(\"colorectal\"):   # cancer0에서 cancer에 대한 연관성\n",
    "        print(word)\n",
    "    file.close()\n"
   ]
  },
  {
   "cell_type": "code",
   "execution_count": null,
   "metadata": {},
   "outputs": [],
   "source": []
  }
 ],
 "metadata": {
  "kernelspec": {
   "display_name": "Python 3",
   "language": "python",
   "name": "python3"
  },
  "language_info": {
   "codemirror_mode": {
    "name": "ipython",
    "version": 3
   },
   "file_extension": ".py",
   "mimetype": "text/x-python",
   "name": "python",
   "nbconvert_exporter": "python",
   "pygments_lexer": "ipython3",
   "version": "3.7.4"
  }
 },
 "nbformat": 4,
 "nbformat_minor": 2
}
