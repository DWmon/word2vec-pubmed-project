{
 "cells": [
  {
   "cell_type": "code",
   "execution_count": 1,
   "metadata": {},
   "outputs": [
    {
     "name": "stdout",
     "output_type": "stream",
     "text": [
      "Wall time: 165 ms\n"
     ]
    }
   ],
   "source": [
    "%%time\n",
    "\n",
    "import os\n",
    "import gzip\n",
    "import xml.etree.ElementTree as ET\n",
    "\n",
    "base1_path = 'E:/pubmed/base1/'\n",
    "base2_path = 'E:/pubmed/base2/'\n",
    "base3_path = 'E:/pubmed/base3/'\n",
    "update_path = 'E:/pubmed/update/'\n",
    "\n",
    "base1_files = os.listdir(base1_path)\n",
    "base2_files = os.listdir(base2_path)\n",
    "base3_files = os.listdir(base3_path)\n",
    "update_files = os.listdir(update_path)"
   ]
  },
  {
   "cell_type": "code",
   "execution_count": 3,
   "metadata": {},
   "outputs": [
    {
     "name": "stdout",
     "output_type": "stream",
     "text": [
      "Wall time: 56min 16s\n"
     ]
    }
   ],
   "source": [
    "%%time\n",
    "update_abstract=[]\n",
    "for file in update_files:\n",
    "    update_doc = ET.parse(gzip.open(update_path+file, 'r'))\n",
    "    update_root = update_doc.getroot()\n",
    "    \n",
    "    for neighbor in update_root.iter(\"AbstractText\"):\n",
    "        update_abstract.append(neighbor.text)"
   ]
  },
  {
   "cell_type": "code",
   "execution_count": null,
   "metadata": {},
   "outputs": [
    {
     "name": "stdout",
     "output_type": "stream",
     "text": [
      "Wall time: 1min 30s\n"
     ]
    }
   ],
   "source": [
    "%%time\n",
    "batch_size=5000\n",
    "length=int(len(update_abstract)/batch_size)\n",
    "\n",
    "for i in range(batch_size):\n",
    "    file=open('E:/pubmed/abstract/update_'+ str(i+1) + '.txt','w',encoding='UTF-8')\n",
    "    \n",
    "    if(i==batch_size-1):\n",
    "        for data in update_abstract[i*length:len(update_abstract)]:\n",
    "            file.write(str(data))\n",
    "    else:\n",
    "        for data in update_abstract[i*length:(i+1)*length]:\n",
    "            file.write(str(data))\n",
    "    file.close()"
   ]
  },
  {
   "cell_type": "code",
   "execution_count": null,
   "metadata": {
    "collapsed": true
   },
   "outputs": [],
   "source": []
  },
  {
   "cell_type": "code",
   "execution_count": null,
   "metadata": {
    "collapsed": true
   },
   "outputs": [],
   "source": [
    "%%time\n",
    "\n",
    "base1_abstract=[]\n",
    "for file in base1_files:\n",
    "    base1_doc = ET.parse(gzip.open(base1_path+file, 'r'))\n",
    "    base1_root = base1_doc.getroot()\n",
    "    \n",
    "    for neighbor in base1_root.iter(\"AbstractText\"):\n",
    "        base1_abstract.append(neighbor.text)"
   ]
  },
  {
   "cell_type": "code",
   "execution_count": null,
   "metadata": {
    "collapsed": true
   },
   "outputs": [],
   "source": [
    "%%time\n",
    "batch_size=5000\n",
    "length=int(len(base1_abstract)/batch_size)\n",
    "\n",
    "for i in range(batch_size):\n",
    "    file=open('E:/pubmed/abstract/base1_'+ str(i+1) + '.txt','w',encoding='UTF-8')\n",
    "    \n",
    "    if(i==batch_size-1):\n",
    "        for data in base1_abstract[i*length:len(base1_abstract)]:\n",
    "            file.write(str(data))\n",
    "    else:\n",
    "        for data in base1_abstract[i*length:(i+1)*length]:\n",
    "            file.write(str(data))\n",
    "    file.close()"
   ]
  },
  {
   "cell_type": "code",
   "execution_count": null,
   "metadata": {
    "collapsed": true
   },
   "outputs": [],
   "source": []
  },
  {
   "cell_type": "code",
   "execution_count": null,
   "metadata": {
    "collapsed": true
   },
   "outputs": [],
   "source": [
    "%%time\n",
    "\n",
    "base2_abstract=[]\n",
    "for file in base2_files:\n",
    "    base2_doc = ET.parse(gzip.open(base2_path+file, 'r'))\n",
    "    base2_root = base2_doc.getroot()\n",
    "    \n",
    "    for neighbor in base2_root.iter(\"AbstractText\"):\n",
    "        base2_abstract.append(neighbor.text)"
   ]
  },
  {
   "cell_type": "code",
   "execution_count": null,
   "metadata": {
    "collapsed": true
   },
   "outputs": [],
   "source": [
    "%%time\n",
    "batch_size=5000\n",
    "length=int(len(base2_abstract)/batch_size)\n",
    "\n",
    "for i in range(batch_size):\n",
    "    file=open('E:/pubmed/abstract/base2_'+ str(i+1) + '.txt','w',encoding='UTF-8')\n",
    "    \n",
    "    if(i==batch_size-1):\n",
    "        for data in base2_abstract[i*length:len(base2_abstract)]:\n",
    "            file.write(str(data))\n",
    "    else:\n",
    "        for data in base2_abstract[i*length:(i+1)*length]:\n",
    "            file.write(str(data))\n",
    "    file.close()"
   ]
  },
  {
   "cell_type": "code",
   "execution_count": null,
   "metadata": {
    "collapsed": true
   },
   "outputs": [],
   "source": []
  },
  {
   "cell_type": "code",
   "execution_count": null,
   "metadata": {
    "collapsed": true
   },
   "outputs": [],
   "source": [
    "%%time\n",
    "\n",
    "base3_abstract=[]\n",
    "for file in base3_files:\n",
    "    base3_doc = ET.parse(gzip.open(base3_path+file, 'r'))\n",
    "    base3_root = base3_doc.getroot()\n",
    "    \n",
    "    for neighbor in base3_root.iter(\"AbstractText\"):\n",
    "        base3_abstract.append(neighbor.text)"
   ]
  },
  {
   "cell_type": "code",
   "execution_count": null,
   "metadata": {
    "collapsed": true
   },
   "outputs": [],
   "source": [
    "%%time\n",
    "batch_size=5000\n",
    "length=int(len(base3_abstract)/batch_size)\n",
    "\n",
    "for i in range(batch_size):\n",
    "    file=open('E:/pubmed/abstract/base3_'+ str(i+1) + '.txt','w',encoding='UTF-8')\n",
    "    \n",
    "    if(i==batch_size-1):\n",
    "        for data in base3_abstract[i*length:len(base3_abstract)]:\n",
    "            file.write(str(data))\n",
    "    else:\n",
    "        for data in base3_abstract[i*length:(i+1)*length]:\n",
    "            file.write(str(data))\n",
    "    file.close()"
   ]
  },
  {
   "cell_type": "code",
   "execution_count": null,
   "metadata": {
    "collapsed": true
   },
   "outputs": [],
   "source": []
  }
 ],
 "metadata": {
  "kernelspec": {
   "display_name": "Python 3",
   "language": "python",
   "name": "python3"
  },
  "language_info": {
   "codemirror_mode": {
    "name": "ipython",
    "version": 3
   },
   "file_extension": ".py",
   "mimetype": "text/x-python",
   "name": "python",
   "nbconvert_exporter": "python",
   "pygments_lexer": "ipython3",
   "version": "3.7.4"
  }
 },
 "nbformat": 4,
 "nbformat_minor": 2
}
